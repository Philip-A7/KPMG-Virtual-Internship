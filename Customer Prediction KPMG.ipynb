{
 "cells": [
  {
   "cell_type": "code",
   "execution_count": 1,
   "metadata": {
    "ExecuteTime": {
     "end_time": "2021-01-26T00:43:49.532508Z",
     "start_time": "2021-01-26T00:43:46.137109Z"
    }
   },
   "outputs": [],
   "source": [
    "# Data manipulation libraries\n",
    "import pandas as pd\n",
    "import numpy as np\n",
    "\n",
    "# Plotting Libraries\n",
    "import matplotlib.pyplot as plt\n",
    "import seaborn as sns\n",
    "%matplotlib inline \n",
    "%config InlineBackend.figure_format='retina'\n",
    "\n",
    "# Date libraries\n",
    "from datetime import date, datetime, timedelta\n",
    "import xlrd\n",
    "\n",
    "# Machine Learning Libraries\n",
    "from sklearn.cluster import KMeans\n",
    "from sklearn.preprocessing import StandardScaler\n",
    "from sklearn import metrics"
   ]
  },
  {
   "cell_type": "markdown",
   "metadata": {},
   "source": [
    "# Load Datasets"
   ]
  },
  {
   "cell_type": "code",
   "execution_count": 2,
   "metadata": {
    "ExecuteTime": {
     "end_time": "2021-01-26T00:44:00.707839Z",
     "start_time": "2021-01-26T00:43:55.508910Z"
    }
   },
   "outputs": [],
   "source": [
    "xls = pd.ExcelFile('KPMG_VI_New_raw_data_update_final2.xlsx')\n",
    "new_list = pd.read_excel(xls, 'NewCustomerList', skiprows=[0])\n",
    "full_cluster = pd.read_csv('full_clustered.csv')\n",
    "target_customers = pd.read_csv('high_value.csv')\n",
    "RFM = pd.read_csv('RFMs.csv')"
   ]
  },
  {
   "cell_type": "code",
   "execution_count": 3,
   "metadata": {
    "ExecuteTime": {
     "end_time": "2021-01-26T00:44:02.816872Z",
     "start_time": "2021-01-26T00:44:02.761912Z"
    }
   },
   "outputs": [
    {
     "data": {
      "text/html": [
       "<div>\n",
       "<style scoped>\n",
       "    .dataframe tbody tr th:only-of-type {\n",
       "        vertical-align: middle;\n",
       "    }\n",
       "\n",
       "    .dataframe tbody tr th {\n",
       "        vertical-align: top;\n",
       "    }\n",
       "\n",
       "    .dataframe thead th {\n",
       "        text-align: right;\n",
       "    }\n",
       "</style>\n",
       "<table border=\"1\" class=\"dataframe\">\n",
       "  <thead>\n",
       "    <tr style=\"text-align: right;\">\n",
       "      <th></th>\n",
       "      <th>first_name</th>\n",
       "      <th>last_name</th>\n",
       "      <th>gender</th>\n",
       "      <th>past_3_years_bike_related_purchases</th>\n",
       "      <th>DOB</th>\n",
       "      <th>job_title</th>\n",
       "      <th>job_industry_category</th>\n",
       "      <th>wealth_segment</th>\n",
       "      <th>deceased_indicator</th>\n",
       "      <th>owns_car</th>\n",
       "      <th>...</th>\n",
       "      <th>state</th>\n",
       "      <th>country</th>\n",
       "      <th>property_valuation</th>\n",
       "      <th>Unnamed: 16</th>\n",
       "      <th>Unnamed: 17</th>\n",
       "      <th>Unnamed: 18</th>\n",
       "      <th>Unnamed: 19</th>\n",
       "      <th>Unnamed: 20</th>\n",
       "      <th>Rank</th>\n",
       "      <th>Value</th>\n",
       "    </tr>\n",
       "  </thead>\n",
       "  <tbody>\n",
       "    <tr>\n",
       "      <th>0</th>\n",
       "      <td>Chickie</td>\n",
       "      <td>Brister</td>\n",
       "      <td>Male</td>\n",
       "      <td>86</td>\n",
       "      <td>1957-07-12</td>\n",
       "      <td>General Manager</td>\n",
       "      <td>Manufacturing</td>\n",
       "      <td>Mass Customer</td>\n",
       "      <td>N</td>\n",
       "      <td>Yes</td>\n",
       "      <td>...</td>\n",
       "      <td>QLD</td>\n",
       "      <td>Australia</td>\n",
       "      <td>6</td>\n",
       "      <td>0.73</td>\n",
       "      <td>0.9125</td>\n",
       "      <td>1.140625</td>\n",
       "      <td>0.969531</td>\n",
       "      <td>1</td>\n",
       "      <td>1</td>\n",
       "      <td>1.718750</td>\n",
       "    </tr>\n",
       "    <tr>\n",
       "      <th>1</th>\n",
       "      <td>Morly</td>\n",
       "      <td>Genery</td>\n",
       "      <td>Male</td>\n",
       "      <td>69</td>\n",
       "      <td>1970-03-22</td>\n",
       "      <td>Structural Engineer</td>\n",
       "      <td>Property</td>\n",
       "      <td>Mass Customer</td>\n",
       "      <td>N</td>\n",
       "      <td>No</td>\n",
       "      <td>...</td>\n",
       "      <td>NSW</td>\n",
       "      <td>Australia</td>\n",
       "      <td>11</td>\n",
       "      <td>0.85</td>\n",
       "      <td>0.8500</td>\n",
       "      <td>1.062500</td>\n",
       "      <td>0.903125</td>\n",
       "      <td>1</td>\n",
       "      <td>1</td>\n",
       "      <td>1.718750</td>\n",
       "    </tr>\n",
       "    <tr>\n",
       "      <th>2</th>\n",
       "      <td>Ardelis</td>\n",
       "      <td>Forrester</td>\n",
       "      <td>Female</td>\n",
       "      <td>10</td>\n",
       "      <td>1974-08-28</td>\n",
       "      <td>Senior Cost Accountant</td>\n",
       "      <td>Financial Services</td>\n",
       "      <td>Affluent Customer</td>\n",
       "      <td>N</td>\n",
       "      <td>No</td>\n",
       "      <td>...</td>\n",
       "      <td>VIC</td>\n",
       "      <td>Australia</td>\n",
       "      <td>5</td>\n",
       "      <td>0.75</td>\n",
       "      <td>0.7500</td>\n",
       "      <td>0.750000</td>\n",
       "      <td>0.750000</td>\n",
       "      <td>1</td>\n",
       "      <td>1</td>\n",
       "      <td>1.718750</td>\n",
       "    </tr>\n",
       "    <tr>\n",
       "      <th>3</th>\n",
       "      <td>Lucine</td>\n",
       "      <td>Stutt</td>\n",
       "      <td>Female</td>\n",
       "      <td>64</td>\n",
       "      <td>1979-01-28</td>\n",
       "      <td>Account Representative III</td>\n",
       "      <td>Manufacturing</td>\n",
       "      <td>Affluent Customer</td>\n",
       "      <td>N</td>\n",
       "      <td>Yes</td>\n",
       "      <td>...</td>\n",
       "      <td>QLD</td>\n",
       "      <td>Australia</td>\n",
       "      <td>1</td>\n",
       "      <td>0.94</td>\n",
       "      <td>1.1750</td>\n",
       "      <td>1.175000</td>\n",
       "      <td>1.175000</td>\n",
       "      <td>4</td>\n",
       "      <td>4</td>\n",
       "      <td>1.703125</td>\n",
       "    </tr>\n",
       "    <tr>\n",
       "      <th>4</th>\n",
       "      <td>Melinda</td>\n",
       "      <td>Hadlee</td>\n",
       "      <td>Female</td>\n",
       "      <td>34</td>\n",
       "      <td>1965-09-21</td>\n",
       "      <td>Financial Analyst</td>\n",
       "      <td>Financial Services</td>\n",
       "      <td>Affluent Customer</td>\n",
       "      <td>N</td>\n",
       "      <td>No</td>\n",
       "      <td>...</td>\n",
       "      <td>NSW</td>\n",
       "      <td>Australia</td>\n",
       "      <td>9</td>\n",
       "      <td>0.43</td>\n",
       "      <td>0.4300</td>\n",
       "      <td>0.537500</td>\n",
       "      <td>0.537500</td>\n",
       "      <td>4</td>\n",
       "      <td>4</td>\n",
       "      <td>1.703125</td>\n",
       "    </tr>\n",
       "  </tbody>\n",
       "</table>\n",
       "<p>5 rows × 23 columns</p>\n",
       "</div>"
      ],
      "text/plain": [
       "  first_name  last_name  gender  past_3_years_bike_related_purchases  \\\n",
       "0    Chickie    Brister    Male                                   86   \n",
       "1      Morly     Genery    Male                                   69   \n",
       "2    Ardelis  Forrester  Female                                   10   \n",
       "3     Lucine      Stutt  Female                                   64   \n",
       "4    Melinda     Hadlee  Female                                   34   \n",
       "\n",
       "         DOB                   job_title job_industry_category  \\\n",
       "0 1957-07-12             General Manager         Manufacturing   \n",
       "1 1970-03-22         Structural Engineer              Property   \n",
       "2 1974-08-28      Senior Cost Accountant    Financial Services   \n",
       "3 1979-01-28  Account Representative III         Manufacturing   \n",
       "4 1965-09-21           Financial Analyst    Financial Services   \n",
       "\n",
       "      wealth_segment deceased_indicator owns_car  ...  state    country  \\\n",
       "0      Mass Customer                  N      Yes  ...    QLD  Australia   \n",
       "1      Mass Customer                  N       No  ...    NSW  Australia   \n",
       "2  Affluent Customer                  N       No  ...    VIC  Australia   \n",
       "3  Affluent Customer                  N      Yes  ...    QLD  Australia   \n",
       "4  Affluent Customer                  N       No  ...    NSW  Australia   \n",
       "\n",
       "   property_valuation Unnamed: 16 Unnamed: 17  Unnamed: 18  Unnamed: 19  \\\n",
       "0                   6        0.73      0.9125     1.140625     0.969531   \n",
       "1                  11        0.85      0.8500     1.062500     0.903125   \n",
       "2                   5        0.75      0.7500     0.750000     0.750000   \n",
       "3                   1        0.94      1.1750     1.175000     1.175000   \n",
       "4                   9        0.43      0.4300     0.537500     0.537500   \n",
       "\n",
       "   Unnamed: 20  Rank     Value  \n",
       "0            1     1  1.718750  \n",
       "1            1     1  1.718750  \n",
       "2            1     1  1.718750  \n",
       "3            4     4  1.703125  \n",
       "4            4     4  1.703125  \n",
       "\n",
       "[5 rows x 23 columns]"
      ]
     },
     "execution_count": 3,
     "metadata": {},
     "output_type": "execute_result"
    }
   ],
   "source": [
    "new_list.head()"
   ]
  },
  {
   "cell_type": "code",
   "execution_count": 4,
   "metadata": {
    "ExecuteTime": {
     "end_time": "2021-01-26T00:44:06.859557Z",
     "start_time": "2021-01-26T00:44:06.848815Z"
    }
   },
   "outputs": [
    {
     "data": {
      "text/plain": [
       "transaction_id                           int64\n",
       "product_id                               int64\n",
       "customer_id                              int64\n",
       "transaction_date                        object\n",
       "online_order                           float64\n",
       "order_status                            object\n",
       "brand                                   object\n",
       "product_line                            object\n",
       "product_class                           object\n",
       "product_size                            object\n",
       "list_price                             float64\n",
       "standard_cost                          float64\n",
       "product_first_sold_date                 object\n",
       "first_name                              object\n",
       "last_name                               object\n",
       "gender                                  object\n",
       "past_3_years_bike_related_purchases      int64\n",
       "job_title                               object\n",
       "job_industry_category                   object\n",
       "wealth_segment                          object\n",
       "deceased_indicator                      object\n",
       "owns_car                                object\n",
       "tenure                                 float64\n",
       "address                                 object\n",
       "postcode                                 int64\n",
       "state                                   object\n",
       "property_valuation                       int64\n",
       "profit                                 float64\n",
       "transaction_month                        int64\n",
       "AgeGroup                                object\n",
       "cluster                                  int64\n",
       "dtype: object"
      ]
     },
     "execution_count": 4,
     "metadata": {},
     "output_type": "execute_result"
    }
   ],
   "source": [
    "full_cluster.dtypes"
   ]
  },
  {
   "cell_type": "code",
   "execution_count": 5,
   "metadata": {
    "ExecuteTime": {
     "end_time": "2021-01-26T00:44:11.130849Z",
     "start_time": "2021-01-26T00:44:11.123975Z"
    }
   },
   "outputs": [
    {
     "data": {
      "text/plain": [
       "first_name                                     object\n",
       "last_name                                      object\n",
       "gender                                         object\n",
       "past_3_years_bike_related_purchases             int64\n",
       "DOB                                    datetime64[ns]\n",
       "job_title                                      object\n",
       "job_industry_category                          object\n",
       "wealth_segment                                 object\n",
       "deceased_indicator                             object\n",
       "owns_car                                       object\n",
       "tenure                                          int64\n",
       "address                                        object\n",
       "postcode                                        int64\n",
       "state                                          object\n",
       "country                                        object\n",
       "property_valuation                              int64\n",
       "Unnamed: 16                                   float64\n",
       "Unnamed: 17                                   float64\n",
       "Unnamed: 18                                   float64\n",
       "Unnamed: 19                                   float64\n",
       "Unnamed: 20                                     int64\n",
       "Rank                                            int64\n",
       "Value                                         float64\n",
       "dtype: object"
      ]
     },
     "execution_count": 5,
     "metadata": {},
     "output_type": "execute_result"
    }
   ],
   "source": [
    "new_list.dtypes"
   ]
  },
  {
   "cell_type": "markdown",
   "metadata": {},
   "source": [
    "# Data Preparation\n",
    "\n",
    "First we need to process the new customer dataset to match the preprocessing done on the old data.\n",
    "\n",
    "Next we need to make sure the features match on both sets, with the exception of the cluster on the old dataset which will serve as a label for training data"
   ]
  },
  {
   "cell_type": "code",
   "execution_count": 6,
   "metadata": {
    "ExecuteTime": {
     "end_time": "2021-01-26T00:44:15.680778Z",
     "start_time": "2021-01-26T00:44:15.675944Z"
    }
   },
   "outputs": [],
   "source": [
    "def intersection(cols1, cols2):\n",
    "    cols3 = [value for value in cols1 if value in cols2]\n",
    "    return cols3\n",
    "\n",
    "def not_intersection(cols1, cols2):\n",
    "    cols3 = [value for value in cols1 if value not in cols2]\n",
    "    return cols3"
   ]
  },
  {
   "cell_type": "code",
   "execution_count": 7,
   "metadata": {
    "ExecuteTime": {
     "end_time": "2021-01-26T00:44:24.810997Z",
     "start_time": "2021-01-26T00:44:24.804844Z"
    }
   },
   "outputs": [
    {
     "data": {
      "text/plain": [
       "['first_name',\n",
       " 'last_name',\n",
       " 'gender',\n",
       " 'past_3_years_bike_related_purchases',\n",
       " 'job_title',\n",
       " 'job_industry_category',\n",
       " 'wealth_segment',\n",
       " 'deceased_indicator',\n",
       " 'owns_car',\n",
       " 'tenure',\n",
       " 'address',\n",
       " 'postcode',\n",
       " 'state',\n",
       " 'property_valuation']"
      ]
     },
     "execution_count": 7,
     "metadata": {},
     "output_type": "execute_result"
    }
   ],
   "source": [
    "intersection(full_cluster.columns, new_list.columns)"
   ]
  },
  {
   "cell_type": "code",
   "execution_count": 8,
   "metadata": {
    "ExecuteTime": {
     "end_time": "2021-01-26T00:44:28.985359Z",
     "start_time": "2021-01-26T00:44:28.979763Z"
    }
   },
   "outputs": [
    {
     "data": {
      "text/plain": [
       "['transaction_id',\n",
       " 'product_id',\n",
       " 'customer_id',\n",
       " 'transaction_date',\n",
       " 'online_order',\n",
       " 'order_status',\n",
       " 'brand',\n",
       " 'product_line',\n",
       " 'product_class',\n",
       " 'product_size',\n",
       " 'list_price',\n",
       " 'standard_cost',\n",
       " 'product_first_sold_date',\n",
       " 'profit',\n",
       " 'transaction_month',\n",
       " 'AgeGroup',\n",
       " 'cluster']"
      ]
     },
     "execution_count": 8,
     "metadata": {},
     "output_type": "execute_result"
    }
   ],
   "source": [
    "not_intersection(full_cluster.columns, new_list.columns) "
   ]
  },
  {
   "cell_type": "code",
   "execution_count": 9,
   "metadata": {
    "ExecuteTime": {
     "end_time": "2021-01-26T00:44:32.075776Z",
     "start_time": "2021-01-26T00:44:32.066841Z"
    }
   },
   "outputs": [
    {
     "data": {
      "text/plain": [
       "['DOB',\n",
       " 'country',\n",
       " 'Unnamed: 16',\n",
       " 'Unnamed: 17',\n",
       " 'Unnamed: 18',\n",
       " 'Unnamed: 19',\n",
       " 'Unnamed: 20',\n",
       " 'Rank',\n",
       " 'Value']"
      ]
     },
     "execution_count": 9,
     "metadata": {},
     "output_type": "execute_result"
    }
   ],
   "source": [
    "not_intersection(new_list.columns, full_cluster.columns) "
   ]
  },
  {
   "cell_type": "markdown",
   "metadata": {},
   "source": [
    "### New Customer Dataset"
   ]
  },
  {
   "cell_type": "code",
   "execution_count": 10,
   "metadata": {
    "ExecuteTime": {
     "end_time": "2021-01-26T00:44:42.732690Z",
     "start_time": "2021-01-26T00:44:42.716055Z"
    }
   },
   "outputs": [],
   "source": [
    "stage1 = new_list.drop(columns=['Unnamed: 16', \n",
    "                                'Unnamed: 17', \n",
    "                                'Unnamed: 18', \n",
    "                                'Unnamed: 19', \n",
    "                                'Unnamed: 20',\n",
    "                                'Rank',\n",
    "                                'Value'])"
   ]
  },
  {
   "cell_type": "code",
   "execution_count": 11,
   "metadata": {
    "ExecuteTime": {
     "end_time": "2021-01-26T00:44:54.158634Z",
     "start_time": "2021-01-26T00:44:54.144741Z"
    }
   },
   "outputs": [],
   "source": [
    "def clean_demographics(df):\n",
    "    '''Function to carry out preprocessing on demographics dataset'''\n",
    "    \n",
    "    # Clean Gender column\n",
    "    df['gender'].replace({'Female':'F', 'Male':'M', 'Femal':'F'}, inplace=True)\n",
    "    \n",
    "    # Clean Job title\n",
    "    df['job_title'] = df['job_title'].str.replace(' V','').str.replace(' IV','').str.replace(' III','')\n",
    "    df['job_title'] = df['job_title'].str.replace(' II','').str.replace(' I','')\n",
    "    \n",
    "    \n",
    "    return df\n",
    "\n",
    "def clean_address(df):\n",
    "    '''UDF to clean customer address dataset'''\n",
    "    \n",
    "    # Standardize state names\n",
    "    df['state'] = df['state'].replace({'New South Wales':'NSW','Victoria':'VIC'})\n",
    "    \n",
    "    # Drop redundant column\n",
    "    df.drop(columns=['country'], inplace=True)\n",
    "    return df\n",
    "\n",
    "def engineered_features(df):\n",
    "    \n",
    "    # Age creation\n",
    "    now = pd.Timestamp('now')\n",
    "    df['age'] = (now - df['DOB']).astype('<m8[Y]') - 3\n",
    "    \n",
    "    # Age group creation\n",
    "    bins= [0,10,18,30,50,120]\n",
    "    labels = ['Kid','Teen','Young adult','Middle Aged','Elderly']\n",
    "    df['AgeGroup'] = pd.cut(df['age'], bins=bins, labels=labels, right=False)\n",
    "    df.drop(columns=['age','DOB'], inplace=True)\n",
    "    return df"
   ]
  },
  {
   "cell_type": "code",
   "execution_count": 12,
   "metadata": {
    "ExecuteTime": {
     "end_time": "2021-01-26T00:45:03.755519Z",
     "start_time": "2021-01-26T00:45:03.699889Z"
    }
   },
   "outputs": [],
   "source": [
    "final_newlist = engineered_features(clean_address(clean_demographics(stage1)))"
   ]
  },
  {
   "cell_type": "code",
   "execution_count": 13,
   "metadata": {
    "ExecuteTime": {
     "end_time": "2021-01-26T00:45:05.970268Z",
     "start_time": "2021-01-26T00:45:05.946559Z"
    }
   },
   "outputs": [
    {
     "data": {
      "text/html": [
       "<div>\n",
       "<style scoped>\n",
       "    .dataframe tbody tr th:only-of-type {\n",
       "        vertical-align: middle;\n",
       "    }\n",
       "\n",
       "    .dataframe tbody tr th {\n",
       "        vertical-align: top;\n",
       "    }\n",
       "\n",
       "    .dataframe thead th {\n",
       "        text-align: right;\n",
       "    }\n",
       "</style>\n",
       "<table border=\"1\" class=\"dataframe\">\n",
       "  <thead>\n",
       "    <tr style=\"text-align: right;\">\n",
       "      <th></th>\n",
       "      <th>first_name</th>\n",
       "      <th>last_name</th>\n",
       "      <th>gender</th>\n",
       "      <th>past_3_years_bike_related_purchases</th>\n",
       "      <th>job_title</th>\n",
       "      <th>job_industry_category</th>\n",
       "      <th>wealth_segment</th>\n",
       "      <th>deceased_indicator</th>\n",
       "      <th>owns_car</th>\n",
       "      <th>tenure</th>\n",
       "      <th>address</th>\n",
       "      <th>postcode</th>\n",
       "      <th>state</th>\n",
       "      <th>property_valuation</th>\n",
       "      <th>AgeGroup</th>\n",
       "    </tr>\n",
       "  </thead>\n",
       "  <tbody>\n",
       "    <tr>\n",
       "      <th>0</th>\n",
       "      <td>Chickie</td>\n",
       "      <td>Brister</td>\n",
       "      <td>M</td>\n",
       "      <td>86</td>\n",
       "      <td>General Manager</td>\n",
       "      <td>Manufacturing</td>\n",
       "      <td>Mass Customer</td>\n",
       "      <td>N</td>\n",
       "      <td>Yes</td>\n",
       "      <td>14</td>\n",
       "      <td>45 Shopko Center</td>\n",
       "      <td>4500</td>\n",
       "      <td>QLD</td>\n",
       "      <td>6</td>\n",
       "      <td>Elderly</td>\n",
       "    </tr>\n",
       "    <tr>\n",
       "      <th>1</th>\n",
       "      <td>Morly</td>\n",
       "      <td>Genery</td>\n",
       "      <td>M</td>\n",
       "      <td>69</td>\n",
       "      <td>Structural Engineer</td>\n",
       "      <td>Property</td>\n",
       "      <td>Mass Customer</td>\n",
       "      <td>N</td>\n",
       "      <td>No</td>\n",
       "      <td>16</td>\n",
       "      <td>14 Mccormick Park</td>\n",
       "      <td>2113</td>\n",
       "      <td>NSW</td>\n",
       "      <td>11</td>\n",
       "      <td>Middle Aged</td>\n",
       "    </tr>\n",
       "    <tr>\n",
       "      <th>2</th>\n",
       "      <td>Ardelis</td>\n",
       "      <td>Forrester</td>\n",
       "      <td>F</td>\n",
       "      <td>10</td>\n",
       "      <td>Senior Cost Accountant</td>\n",
       "      <td>Financial Services</td>\n",
       "      <td>Affluent Customer</td>\n",
       "      <td>N</td>\n",
       "      <td>No</td>\n",
       "      <td>10</td>\n",
       "      <td>5 Colorado Crossing</td>\n",
       "      <td>3505</td>\n",
       "      <td>VIC</td>\n",
       "      <td>5</td>\n",
       "      <td>Middle Aged</td>\n",
       "    </tr>\n",
       "    <tr>\n",
       "      <th>3</th>\n",
       "      <td>Lucine</td>\n",
       "      <td>Stutt</td>\n",
       "      <td>F</td>\n",
       "      <td>64</td>\n",
       "      <td>Account Representative</td>\n",
       "      <td>Manufacturing</td>\n",
       "      <td>Affluent Customer</td>\n",
       "      <td>N</td>\n",
       "      <td>Yes</td>\n",
       "      <td>5</td>\n",
       "      <td>207 Annamark Plaza</td>\n",
       "      <td>4814</td>\n",
       "      <td>QLD</td>\n",
       "      <td>1</td>\n",
       "      <td>Middle Aged</td>\n",
       "    </tr>\n",
       "    <tr>\n",
       "      <th>4</th>\n",
       "      <td>Melinda</td>\n",
       "      <td>Hadlee</td>\n",
       "      <td>F</td>\n",
       "      <td>34</td>\n",
       "      <td>Financial Analyst</td>\n",
       "      <td>Financial Services</td>\n",
       "      <td>Affluent Customer</td>\n",
       "      <td>N</td>\n",
       "      <td>No</td>\n",
       "      <td>19</td>\n",
       "      <td>115 Montana Place</td>\n",
       "      <td>2093</td>\n",
       "      <td>NSW</td>\n",
       "      <td>9</td>\n",
       "      <td>Elderly</td>\n",
       "    </tr>\n",
       "  </tbody>\n",
       "</table>\n",
       "</div>"
      ],
      "text/plain": [
       "  first_name  last_name gender  past_3_years_bike_related_purchases  \\\n",
       "0    Chickie    Brister      M                                   86   \n",
       "1      Morly     Genery      M                                   69   \n",
       "2    Ardelis  Forrester      F                                   10   \n",
       "3     Lucine      Stutt      F                                   64   \n",
       "4    Melinda     Hadlee      F                                   34   \n",
       "\n",
       "                job_title job_industry_category     wealth_segment  \\\n",
       "0         General Manager         Manufacturing      Mass Customer   \n",
       "1     Structural Engineer              Property      Mass Customer   \n",
       "2  Senior Cost Accountant    Financial Services  Affluent Customer   \n",
       "3  Account Representative         Manufacturing  Affluent Customer   \n",
       "4       Financial Analyst    Financial Services  Affluent Customer   \n",
       "\n",
       "  deceased_indicator owns_car  tenure              address  postcode state  \\\n",
       "0                  N      Yes      14     45 Shopko Center      4500   QLD   \n",
       "1                  N       No      16    14 Mccormick Park      2113   NSW   \n",
       "2                  N       No      10  5 Colorado Crossing      3505   VIC   \n",
       "3                  N      Yes       5   207 Annamark Plaza      4814   QLD   \n",
       "4                  N       No      19    115 Montana Place      2093   NSW   \n",
       "\n",
       "   property_valuation     AgeGroup  \n",
       "0                   6      Elderly  \n",
       "1                  11  Middle Aged  \n",
       "2                   5  Middle Aged  \n",
       "3                   1  Middle Aged  \n",
       "4                   9      Elderly  "
      ]
     },
     "execution_count": 13,
     "metadata": {},
     "output_type": "execute_result"
    }
   ],
   "source": [
    "final_newlist.head()"
   ]
  },
  {
   "cell_type": "code",
   "execution_count": 15,
   "metadata": {
    "ExecuteTime": {
     "end_time": "2021-01-25T01:40:35.505461Z",
     "start_time": "2021-01-25T01:40:35.498042Z"
    }
   },
   "outputs": [
    {
     "data": {
      "text/plain": [
       "first_name                               object\n",
       "last_name                                object\n",
       "gender                                   object\n",
       "past_3_years_bike_related_purchases       int64\n",
       "job_title                                object\n",
       "job_industry_category                    object\n",
       "wealth_segment                           object\n",
       "deceased_indicator                       object\n",
       "owns_car                                 object\n",
       "tenure                                    int64\n",
       "address                                  object\n",
       "postcode                                  int64\n",
       "state                                    object\n",
       "property_valuation                        int64\n",
       "AgeGroup                               category\n",
       "dtype: object"
      ]
     },
     "execution_count": 15,
     "metadata": {},
     "output_type": "execute_result"
    }
   ],
   "source": [
    "final_newlist.dtypes"
   ]
  },
  {
   "cell_type": "code",
   "execution_count": 15,
   "metadata": {
    "ExecuteTime": {
     "end_time": "2021-01-26T00:49:13.203191Z",
     "start_time": "2021-01-26T00:49:13.093614Z"
    }
   },
   "outputs": [],
   "source": [
    "final_newlist.to_csv('new_list.csv', index=False)"
   ]
  },
  {
   "cell_type": "markdown",
   "metadata": {},
   "source": [
    "### Old Customer Dataset"
   ]
  },
  {
   "cell_type": "code",
   "execution_count": 16,
   "metadata": {
    "ExecuteTime": {
     "end_time": "2021-01-25T01:40:41.011693Z",
     "start_time": "2021-01-25T01:40:41.007664Z"
    }
   },
   "outputs": [],
   "source": [
    "extra_columns = not_intersection(full_cluster.columns, final_newlist.columns) \n",
    "extra_columns.remove('cluster')"
   ]
  },
  {
   "cell_type": "code",
   "execution_count": 17,
   "metadata": {
    "ExecuteTime": {
     "end_time": "2021-01-25T01:40:41.794298Z",
     "start_time": "2021-01-25T01:40:41.789340Z"
    }
   },
   "outputs": [
    {
     "data": {
      "text/plain": [
       "['transaction_id',\n",
       " 'product_id',\n",
       " 'customer_id',\n",
       " 'transaction_date',\n",
       " 'online_order',\n",
       " 'order_status',\n",
       " 'brand',\n",
       " 'product_line',\n",
       " 'product_class',\n",
       " 'product_size',\n",
       " 'list_price',\n",
       " 'standard_cost',\n",
       " 'product_first_sold_date',\n",
       " 'profit',\n",
       " 'transaction_month']"
      ]
     },
     "execution_count": 17,
     "metadata": {},
     "output_type": "execute_result"
    }
   ],
   "source": [
    "extra_columns"
   ]
  },
  {
   "cell_type": "code",
   "execution_count": 18,
   "metadata": {
    "ExecuteTime": {
     "end_time": "2021-01-25T01:40:48.268761Z",
     "start_time": "2021-01-25T01:40:48.258205Z"
    }
   },
   "outputs": [
    {
     "data": {
      "text/plain": [
       "['cluster']"
      ]
     },
     "execution_count": 18,
     "metadata": {},
     "output_type": "execute_result"
    }
   ],
   "source": [
    "final_fullcluster = full_cluster.drop(columns=extra_columns)\n",
    "\n",
    "# Check to make sure only the cluster label is left as the difference between both datasets\n",
    "not_intersection(final_fullcluster.columns, final_newlist.columns) "
   ]
  },
  {
   "cell_type": "code",
   "execution_count": 19,
   "metadata": {
    "ExecuteTime": {
     "end_time": "2021-01-25T01:40:49.884806Z",
     "start_time": "2021-01-25T01:40:49.879484Z"
    }
   },
   "outputs": [
    {
     "data": {
      "text/plain": [
       "True"
      ]
     },
     "execution_count": 19,
     "metadata": {},
     "output_type": "execute_result"
    }
   ],
   "source": [
    "len(intersection(final_fullcluster.columns, final_newlist.columns))  == len(final_newlist.columns)"
   ]
  },
  {
   "cell_type": "code",
   "execution_count": 20,
   "metadata": {
    "ExecuteTime": {
     "end_time": "2021-01-25T01:40:53.022094Z",
     "start_time": "2021-01-25T01:40:53.001381Z"
    }
   },
   "outputs": [
    {
     "name": "stdout",
     "output_type": "stream",
     "text": [
      "(14062, 16)\n"
     ]
    },
    {
     "data": {
      "text/html": [
       "<div>\n",
       "<style scoped>\n",
       "    .dataframe tbody tr th:only-of-type {\n",
       "        vertical-align: middle;\n",
       "    }\n",
       "\n",
       "    .dataframe tbody tr th {\n",
       "        vertical-align: top;\n",
       "    }\n",
       "\n",
       "    .dataframe thead th {\n",
       "        text-align: right;\n",
       "    }\n",
       "</style>\n",
       "<table border=\"1\" class=\"dataframe\">\n",
       "  <thead>\n",
       "    <tr style=\"text-align: right;\">\n",
       "      <th></th>\n",
       "      <th>first_name</th>\n",
       "      <th>last_name</th>\n",
       "      <th>gender</th>\n",
       "      <th>past_3_years_bike_related_purchases</th>\n",
       "      <th>job_title</th>\n",
       "      <th>job_industry_category</th>\n",
       "      <th>wealth_segment</th>\n",
       "      <th>deceased_indicator</th>\n",
       "      <th>owns_car</th>\n",
       "      <th>tenure</th>\n",
       "      <th>address</th>\n",
       "      <th>postcode</th>\n",
       "      <th>state</th>\n",
       "      <th>property_valuation</th>\n",
       "      <th>AgeGroup</th>\n",
       "      <th>cluster</th>\n",
       "    </tr>\n",
       "  </thead>\n",
       "  <tbody>\n",
       "    <tr>\n",
       "      <th>0</th>\n",
       "      <td>Kristos</td>\n",
       "      <td>Anthony</td>\n",
       "      <td>M</td>\n",
       "      <td>19</td>\n",
       "      <td>Software Engineer</td>\n",
       "      <td>Financial Services</td>\n",
       "      <td>Mass Customer</td>\n",
       "      <td>N</td>\n",
       "      <td>Yes</td>\n",
       "      <td>10.0</td>\n",
       "      <td>984 Hoepker Court</td>\n",
       "      <td>3064</td>\n",
       "      <td>VIC</td>\n",
       "      <td>6</td>\n",
       "      <td>Elderly</td>\n",
       "      <td>1</td>\n",
       "    </tr>\n",
       "    <tr>\n",
       "      <th>1</th>\n",
       "      <td>Kristos</td>\n",
       "      <td>Anthony</td>\n",
       "      <td>M</td>\n",
       "      <td>19</td>\n",
       "      <td>Software Engineer</td>\n",
       "      <td>Financial Services</td>\n",
       "      <td>Mass Customer</td>\n",
       "      <td>N</td>\n",
       "      <td>Yes</td>\n",
       "      <td>10.0</td>\n",
       "      <td>984 Hoepker Court</td>\n",
       "      <td>3064</td>\n",
       "      <td>VIC</td>\n",
       "      <td>6</td>\n",
       "      <td>Elderly</td>\n",
       "      <td>1</td>\n",
       "    </tr>\n",
       "  </tbody>\n",
       "</table>\n",
       "</div>"
      ],
      "text/plain": [
       "  first_name last_name gender  past_3_years_bike_related_purchases  \\\n",
       "0    Kristos   Anthony      M                                   19   \n",
       "1    Kristos   Anthony      M                                   19   \n",
       "\n",
       "           job_title job_industry_category wealth_segment deceased_indicator  \\\n",
       "0  Software Engineer    Financial Services  Mass Customer                  N   \n",
       "1  Software Engineer    Financial Services  Mass Customer                  N   \n",
       "\n",
       "  owns_car  tenure            address  postcode state  property_valuation  \\\n",
       "0      Yes    10.0  984 Hoepker Court      3064   VIC                   6   \n",
       "1      Yes    10.0  984 Hoepker Court      3064   VIC                   6   \n",
       "\n",
       "  AgeGroup  cluster  \n",
       "0  Elderly        1  \n",
       "1  Elderly        1  "
      ]
     },
     "execution_count": 20,
     "metadata": {},
     "output_type": "execute_result"
    }
   ],
   "source": [
    "print(final_fullcluster.shape)\n",
    "final_fullcluster.head(2)"
   ]
  },
  {
   "cell_type": "code",
   "execution_count": 21,
   "metadata": {
    "ExecuteTime": {
     "end_time": "2021-01-25T01:40:55.357943Z",
     "start_time": "2021-01-25T01:40:55.334249Z"
    }
   },
   "outputs": [
    {
     "name": "stdout",
     "output_type": "stream",
     "text": [
      "(1000, 15)\n"
     ]
    },
    {
     "data": {
      "text/html": [
       "<div>\n",
       "<style scoped>\n",
       "    .dataframe tbody tr th:only-of-type {\n",
       "        vertical-align: middle;\n",
       "    }\n",
       "\n",
       "    .dataframe tbody tr th {\n",
       "        vertical-align: top;\n",
       "    }\n",
       "\n",
       "    .dataframe thead th {\n",
       "        text-align: right;\n",
       "    }\n",
       "</style>\n",
       "<table border=\"1\" class=\"dataframe\">\n",
       "  <thead>\n",
       "    <tr style=\"text-align: right;\">\n",
       "      <th></th>\n",
       "      <th>first_name</th>\n",
       "      <th>last_name</th>\n",
       "      <th>gender</th>\n",
       "      <th>past_3_years_bike_related_purchases</th>\n",
       "      <th>job_title</th>\n",
       "      <th>job_industry_category</th>\n",
       "      <th>wealth_segment</th>\n",
       "      <th>deceased_indicator</th>\n",
       "      <th>owns_car</th>\n",
       "      <th>tenure</th>\n",
       "      <th>address</th>\n",
       "      <th>postcode</th>\n",
       "      <th>state</th>\n",
       "      <th>property_valuation</th>\n",
       "      <th>AgeGroup</th>\n",
       "    </tr>\n",
       "  </thead>\n",
       "  <tbody>\n",
       "    <tr>\n",
       "      <th>0</th>\n",
       "      <td>Chickie</td>\n",
       "      <td>Brister</td>\n",
       "      <td>M</td>\n",
       "      <td>86</td>\n",
       "      <td>General Manager</td>\n",
       "      <td>Manufacturing</td>\n",
       "      <td>Mass Customer</td>\n",
       "      <td>N</td>\n",
       "      <td>Yes</td>\n",
       "      <td>14</td>\n",
       "      <td>45 Shopko Center</td>\n",
       "      <td>4500</td>\n",
       "      <td>QLD</td>\n",
       "      <td>6</td>\n",
       "      <td>Elderly</td>\n",
       "    </tr>\n",
       "    <tr>\n",
       "      <th>1</th>\n",
       "      <td>Morly</td>\n",
       "      <td>Genery</td>\n",
       "      <td>M</td>\n",
       "      <td>69</td>\n",
       "      <td>Structural Engineer</td>\n",
       "      <td>Property</td>\n",
       "      <td>Mass Customer</td>\n",
       "      <td>N</td>\n",
       "      <td>No</td>\n",
       "      <td>16</td>\n",
       "      <td>14 Mccormick Park</td>\n",
       "      <td>2113</td>\n",
       "      <td>NSW</td>\n",
       "      <td>11</td>\n",
       "      <td>Middle Aged</td>\n",
       "    </tr>\n",
       "  </tbody>\n",
       "</table>\n",
       "</div>"
      ],
      "text/plain": [
       "  first_name last_name gender  past_3_years_bike_related_purchases  \\\n",
       "0    Chickie   Brister      M                                   86   \n",
       "1      Morly    Genery      M                                   69   \n",
       "\n",
       "             job_title job_industry_category wealth_segment  \\\n",
       "0      General Manager         Manufacturing  Mass Customer   \n",
       "1  Structural Engineer              Property  Mass Customer   \n",
       "\n",
       "  deceased_indicator owns_car  tenure            address  postcode state  \\\n",
       "0                  N      Yes      14   45 Shopko Center      4500   QLD   \n",
       "1                  N       No      16  14 Mccormick Park      2113   NSW   \n",
       "\n",
       "   property_valuation     AgeGroup  \n",
       "0                   6      Elderly  \n",
       "1                  11  Middle Aged  "
      ]
     },
     "execution_count": 21,
     "metadata": {},
     "output_type": "execute_result"
    }
   ],
   "source": [
    "print(final_newlist.shape)\n",
    "final_newlist.head(2)"
   ]
  },
  {
   "cell_type": "markdown",
   "metadata": {
    "ExecuteTime": {
     "end_time": "2021-01-24T03:58:32.227420Z",
     "start_time": "2021-01-24T03:58:32.215616Z"
    }
   },
   "source": [
    "# Machine Learning Model Development\n",
    "\n",
    "Now we will begin building preparing the old dataset to be used for training/testing a decision tree."
   ]
  },
  {
   "cell_type": "code",
   "execution_count": 22,
   "metadata": {
    "ExecuteTime": {
     "end_time": "2021-01-25T01:41:05.987363Z",
     "start_time": "2021-01-25T01:41:05.923682Z"
    }
   },
   "outputs": [],
   "source": [
    "from sklearn.tree import DecisionTreeClassifier\n",
    "from sklearn.ensemble import RandomForestClassifier\n",
    "from sklearn.model_selection import train_test_split\n",
    "from sklearn.metrics import confusion_matrix\n",
    "from sklearn.tree import export_graphviz\n",
    "#from sklearn.externals.six import StringIO \n",
    "from IPython.display import Image \n",
    "#from pydot import graph_from_dot_data\n",
    "\n",
    "# Model Evaluations\n",
    "from sklearn.model_selection import train_test_split, cross_val_score\n",
    "from sklearn.model_selection import RandomizedSearchCV, GridSearchCV\n",
    "from sklearn.metrics import confusion_matrix, classification_report\n",
    "from sklearn.metrics import precision_score, recall_score, f1_score\n",
    "from sklearn.metrics import plot_roc_curve"
   ]
  },
  {
   "cell_type": "code",
   "execution_count": 23,
   "metadata": {
    "ExecuteTime": {
     "end_time": "2021-01-25T01:41:09.553833Z",
     "start_time": "2021-01-25T01:41:09.537549Z"
    }
   },
   "outputs": [
    {
     "data": {
      "text/plain": [
       "2    5268\n",
       "0    4352\n",
       "1    2352\n",
       "3    2090\n",
       "Name: cluster, dtype: int64"
      ]
     },
     "execution_count": 23,
     "metadata": {},
     "output_type": "execute_result"
    }
   ],
   "source": [
    "final_fullcluster['cluster'].value_counts()"
   ]
  },
  {
   "cell_type": "code",
   "execution_count": 24,
   "metadata": {
    "ExecuteTime": {
     "end_time": "2021-01-25T01:41:12.130440Z",
     "start_time": "2021-01-25T01:41:12.123688Z"
    }
   },
   "outputs": [
    {
     "data": {
      "text/plain": [
       "first_name                              object\n",
       "last_name                               object\n",
       "gender                                  object\n",
       "past_3_years_bike_related_purchases      int64\n",
       "job_title                               object\n",
       "job_industry_category                   object\n",
       "wealth_segment                          object\n",
       "deceased_indicator                      object\n",
       "owns_car                                object\n",
       "tenure                                 float64\n",
       "address                                 object\n",
       "postcode                                 int64\n",
       "state                                   object\n",
       "property_valuation                       int64\n",
       "AgeGroup                                object\n",
       "cluster                                  int64\n",
       "dtype: object"
      ]
     },
     "execution_count": 24,
     "metadata": {},
     "output_type": "execute_result"
    }
   ],
   "source": [
    "final_fullcluster.dtypes"
   ]
  },
  {
   "cell_type": "code",
   "execution_count": 25,
   "metadata": {
    "ExecuteTime": {
     "end_time": "2021-01-25T01:41:53.381194Z",
     "start_time": "2021-01-25T01:41:53.371881Z"
    }
   },
   "outputs": [],
   "source": [
    "# Turn categorical variables into numbers and fill missing\n",
    "def convert_to_categories(df):\n",
    "    \n",
    "    for column, contents in df.items():\n",
    "        if pd.api.types.is_string_dtype(contents):\n",
    "            df[column] = contents.astype(\"category\").cat.as_ordered()    \n",
    "    return df\n",
    "\n",
    "def fill_missing(df):\n",
    "    # Fill missing categorical data, and note missing instances\n",
    "    for feature, value in df.items():\n",
    "        \n",
    "        if not pd.api.types.is_numeric_dtype(value):\n",
    "            #df[feature+\"_was_missing\"] = pd.isnull(value)\n",
    "           \n",
    "            # Add +1 to th category code since pandas encodes missing values as -1\n",
    "            df[feature] = pd.Categorical(value).codes+1      \n",
    "    return df\n",
    "\n",
    "def fm(df):\n",
    "    for label, content in final_fullcluster.items():\n",
    "        if not pd.api.types.is_numeric_dtype(content): \n",
    "            # Add a binary column which tells us if the data was missing originally\n",
    "            \n",
    "            # Turn categories into numbers and add +1\n",
    "            final_fullcluster[label] = pd.Categorical(content).codes+1\n",
    "    return df"
   ]
  },
  {
   "cell_type": "code",
   "execution_count": 26,
   "metadata": {
    "ExecuteTime": {
     "end_time": "2021-01-25T01:41:55.291839Z",
     "start_time": "2021-01-25T01:41:55.244029Z"
    }
   },
   "outputs": [],
   "source": [
    "final_fullcluster = convert_to_categories(final_fullcluster)"
   ]
  },
  {
   "cell_type": "code",
   "execution_count": null,
   "metadata": {
    "ExecuteTime": {
     "end_time": "2021-01-25T01:41:56.922333Z",
     "start_time": "2021-01-25T01:41:56.675390Z"
    }
   },
   "outputs": [],
   "source": []
  },
  {
   "cell_type": "code",
   "execution_count": 28,
   "metadata": {
    "ExecuteTime": {
     "end_time": "2021-01-25T01:42:29.826625Z",
     "start_time": "2021-01-25T01:42:29.804231Z"
    }
   },
   "outputs": [],
   "source": [
    "final_fullcluster2 = final_fullcluster.drop(columns=['first_name','last_name'])\n",
    "final_fullcluster2 = fill_missing(final_fullcluster2)\n"
   ]
  },
  {
   "cell_type": "code",
   "execution_count": 29,
   "metadata": {
    "ExecuteTime": {
     "end_time": "2021-01-25T01:42:44.396221Z",
     "start_time": "2021-01-25T01:42:44.389622Z"
    }
   },
   "outputs": [
    {
     "data": {
      "text/plain": [
       "gender                                    int8\n",
       "past_3_years_bike_related_purchases      int64\n",
       "job_title                                 int8\n",
       "job_industry_category                     int8\n",
       "wealth_segment                            int8\n",
       "deceased_indicator                        int8\n",
       "owns_car                                  int8\n",
       "tenure                                 float64\n",
       "address                                  int16\n",
       "postcode                                 int64\n",
       "state                                     int8\n",
       "property_valuation                       int64\n",
       "AgeGroup                                  int8\n",
       "cluster                                  int64\n",
       "dtype: object"
      ]
     },
     "execution_count": 29,
     "metadata": {},
     "output_type": "execute_result"
    }
   ],
   "source": [
    "final_fullcluster2.dtypes"
   ]
  },
  {
   "cell_type": "code",
   "execution_count": 30,
   "metadata": {
    "ExecuteTime": {
     "end_time": "2021-01-25T01:42:54.870708Z",
     "start_time": "2021-01-25T01:42:54.851920Z"
    }
   },
   "outputs": [
    {
     "data": {
      "text/plain": [
       "gender                                 0\n",
       "past_3_years_bike_related_purchases    0\n",
       "job_title                              0\n",
       "job_industry_category                  0\n",
       "wealth_segment                         0\n",
       "deceased_indicator                     0\n",
       "owns_car                               0\n",
       "tenure                                 0\n",
       "address                                0\n",
       "postcode                               0\n",
       "state                                  0\n",
       "property_valuation                     0\n",
       "AgeGroup                               0\n",
       "cluster                                0\n",
       "dtype: int64"
      ]
     },
     "execution_count": 30,
     "metadata": {},
     "output_type": "execute_result"
    }
   ],
   "source": [
    "final_fullcluster2.isna().sum()"
   ]
  },
  {
   "cell_type": "code",
   "execution_count": null,
   "metadata": {
    "ExecuteTime": {
     "end_time": "2021-01-24T05:13:55.564469Z",
     "start_time": "2021-01-24T05:13:55.555949Z"
    }
   },
   "outputs": [],
   "source": []
  },
  {
   "cell_type": "code",
   "execution_count": 31,
   "metadata": {
    "ExecuteTime": {
     "end_time": "2021-01-25T01:43:09.108825Z",
     "start_time": "2021-01-25T01:43:09.093331Z"
    }
   },
   "outputs": [],
   "source": [
    "X = final_fullcluster2.drop(columns=['cluster'])                                    \n",
    "y = final_fullcluster2['cluster']"
   ]
  },
  {
   "cell_type": "code",
   "execution_count": 32,
   "metadata": {
    "ExecuteTime": {
     "end_time": "2021-01-25T01:43:11.326849Z",
     "start_time": "2021-01-25T01:43:11.293206Z"
    }
   },
   "outputs": [
    {
     "name": "stdout",
     "output_type": "stream",
     "text": [
      "(11249, 13)\n",
      "(2813, 13)\n",
      "(11249,)\n",
      "(2813,)\n"
     ]
    }
   ],
   "source": [
    "X_train, X_test, y_train, y_test = train_test_split(X, y, test_size=0.2, stratify=y, random_state=7)\n",
    "\n",
    "for each in[X_train, X_test, y_train, y_test]:\n",
    "    print(each.shape)"
   ]
  },
  {
   "cell_type": "code",
   "execution_count": 33,
   "metadata": {
    "ExecuteTime": {
     "end_time": "2021-01-25T01:43:15.232935Z",
     "start_time": "2021-01-25T01:43:15.218121Z"
    }
   },
   "outputs": [
    {
     "data": {
      "text/html": [
       "<div>\n",
       "<style scoped>\n",
       "    .dataframe tbody tr th:only-of-type {\n",
       "        vertical-align: middle;\n",
       "    }\n",
       "\n",
       "    .dataframe tbody tr th {\n",
       "        vertical-align: top;\n",
       "    }\n",
       "\n",
       "    .dataframe thead th {\n",
       "        text-align: right;\n",
       "    }\n",
       "</style>\n",
       "<table border=\"1\" class=\"dataframe\">\n",
       "  <thead>\n",
       "    <tr style=\"text-align: right;\">\n",
       "      <th></th>\n",
       "      <th>gender</th>\n",
       "      <th>past_3_years_bike_related_purchases</th>\n",
       "      <th>job_title</th>\n",
       "      <th>job_industry_category</th>\n",
       "      <th>wealth_segment</th>\n",
       "      <th>deceased_indicator</th>\n",
       "      <th>owns_car</th>\n",
       "      <th>tenure</th>\n",
       "      <th>address</th>\n",
       "      <th>postcode</th>\n",
       "      <th>state</th>\n",
       "      <th>property_valuation</th>\n",
       "      <th>AgeGroup</th>\n",
       "    </tr>\n",
       "  </thead>\n",
       "  <tbody>\n",
       "    <tr>\n",
       "      <th>5468</th>\n",
       "      <td>1</td>\n",
       "      <td>88</td>\n",
       "      <td>112</td>\n",
       "      <td>3</td>\n",
       "      <td>1</td>\n",
       "      <td>1</td>\n",
       "      <td>2</td>\n",
       "      <td>10.0</td>\n",
       "      <td>154</td>\n",
       "      <td>2749</td>\n",
       "      <td>1</td>\n",
       "      <td>8</td>\n",
       "      <td>2</td>\n",
       "    </tr>\n",
       "    <tr>\n",
       "      <th>9301</th>\n",
       "      <td>1</td>\n",
       "      <td>3</td>\n",
       "      <td>75</td>\n",
       "      <td>5</td>\n",
       "      <td>3</td>\n",
       "      <td>1</td>\n",
       "      <td>2</td>\n",
       "      <td>12.0</td>\n",
       "      <td>1062</td>\n",
       "      <td>2153</td>\n",
       "      <td>1</td>\n",
       "      <td>10</td>\n",
       "      <td>2</td>\n",
       "    </tr>\n",
       "    <tr>\n",
       "      <th>1528</th>\n",
       "      <td>2</td>\n",
       "      <td>98</td>\n",
       "      <td>53</td>\n",
       "      <td>8</td>\n",
       "      <td>2</td>\n",
       "      <td>1</td>\n",
       "      <td>1</td>\n",
       "      <td>17.0</td>\n",
       "      <td>593</td>\n",
       "      <td>2095</td>\n",
       "      <td>1</td>\n",
       "      <td>9</td>\n",
       "      <td>1</td>\n",
       "    </tr>\n",
       "    <tr>\n",
       "      <th>1578</th>\n",
       "      <td>1</td>\n",
       "      <td>25</td>\n",
       "      <td>11</td>\n",
       "      <td>8</td>\n",
       "      <td>1</td>\n",
       "      <td>1</td>\n",
       "      <td>1</td>\n",
       "      <td>1.0</td>\n",
       "      <td>753</td>\n",
       "      <td>4214</td>\n",
       "      <td>2</td>\n",
       "      <td>9</td>\n",
       "      <td>3</td>\n",
       "    </tr>\n",
       "    <tr>\n",
       "      <th>2758</th>\n",
       "      <td>1</td>\n",
       "      <td>33</td>\n",
       "      <td>6</td>\n",
       "      <td>3</td>\n",
       "      <td>3</td>\n",
       "      <td>1</td>\n",
       "      <td>2</td>\n",
       "      <td>9.0</td>\n",
       "      <td>1056</td>\n",
       "      <td>4210</td>\n",
       "      <td>2</td>\n",
       "      <td>10</td>\n",
       "      <td>4</td>\n",
       "    </tr>\n",
       "  </tbody>\n",
       "</table>\n",
       "</div>"
      ],
      "text/plain": [
       "      gender  past_3_years_bike_related_purchases  job_title  \\\n",
       "5468       1                                   88        112   \n",
       "9301       1                                    3         75   \n",
       "1528       2                                   98         53   \n",
       "1578       1                                   25         11   \n",
       "2758       1                                   33          6   \n",
       "\n",
       "      job_industry_category  wealth_segment  deceased_indicator  owns_car  \\\n",
       "5468                      3               1                   1         2   \n",
       "9301                      5               3                   1         2   \n",
       "1528                      8               2                   1         1   \n",
       "1578                      8               1                   1         1   \n",
       "2758                      3               3                   1         2   \n",
       "\n",
       "      tenure  address  postcode  state  property_valuation  AgeGroup  \n",
       "5468    10.0      154      2749      1                   8         2  \n",
       "9301    12.0     1062      2153      1                  10         2  \n",
       "1528    17.0      593      2095      1                   9         1  \n",
       "1578     1.0      753      4214      2                   9         3  \n",
       "2758     9.0     1056      4210      2                  10         4  "
      ]
     },
     "execution_count": 33,
     "metadata": {},
     "output_type": "execute_result"
    }
   ],
   "source": [
    "X_train.head()"
   ]
  },
  {
   "cell_type": "code",
   "execution_count": null,
   "metadata": {
    "ExecuteTime": {
     "end_time": "2021-01-24T06:58:06.391764Z",
     "start_time": "2021-01-24T06:58:06.383588Z"
    }
   },
   "outputs": [],
   "source": []
  },
  {
   "cell_type": "code",
   "execution_count": null,
   "metadata": {},
   "outputs": [],
   "source": []
  },
  {
   "cell_type": "markdown",
   "metadata": {},
   "source": [
    "### Build models"
   ]
  },
  {
   "cell_type": "code",
   "execution_count": 54,
   "metadata": {
    "ExecuteTime": {
     "end_time": "2021-01-25T01:50:00.332616Z",
     "start_time": "2021-01-25T01:50:00.322416Z"
    }
   },
   "outputs": [],
   "source": [
    "models = {\"Decision Tree\": DecisionTreeClassifier(criterion='entropy', max_depth=10),\n",
    "          \"Random Forest\": RandomForestClassifier(n_estimators=50, max_depth=10)}\n",
    "\n",
    "def fit_then_score(models, X_train, X_test, y_train, y_test):\n",
    "    \"\"\"\n",
    "    Fits and evaluates given machine learning models.\n",
    "    models: a dict of different Scikit-Learn machine learning models\n",
    "    \"\"\"\n",
    "    \n",
    "    # Set random seed\n",
    "    np.random.seed(42)\n",
    "    # MAke a dictionary to keep model scores\n",
    "    model_scores = {}\n",
    "    # Loop through models\n",
    "    for name, model in models.items():\n",
    "        # Fit the model to the data\n",
    "        model.fit(X_train, y_train)\n",
    "        #Evaluate the model and append it's score to model scores\n",
    "        model_scores[name] = model.score(X_test, y_test)\n",
    "    return model_scores"
   ]
  },
  {
   "cell_type": "code",
   "execution_count": 55,
   "metadata": {
    "ExecuteTime": {
     "end_time": "2021-01-25T01:50:02.307472Z",
     "start_time": "2021-01-25T01:50:01.673876Z"
    }
   },
   "outputs": [
    {
     "data": {
      "text/plain": [
       "{'Decision Tree': 0.58833985069321, 'Random Forest': 0.8016352648418059}"
      ]
     },
     "execution_count": 55,
     "metadata": {},
     "output_type": "execute_result"
    }
   ],
   "source": [
    "model_scores = fit_then_score(models=models, \n",
    "                              X_train=X_train,\n",
    "                              X_test=X_test,\n",
    "                              y_train=y_train,\n",
    "                              y_test=y_test)\n",
    "\n",
    "model_scores"
   ]
  },
  {
   "cell_type": "code",
   "execution_count": null,
   "metadata": {
    "ExecuteTime": {
     "end_time": "2021-01-24T05:19:01.630847Z",
     "start_time": "2021-01-24T05:19:01.623762Z"
    }
   },
   "outputs": [],
   "source": []
  },
  {
   "cell_type": "code",
   "execution_count": 56,
   "metadata": {
    "ExecuteTime": {
     "end_time": "2021-01-25T01:50:13.120352Z",
     "start_time": "2021-01-25T01:50:13.111857Z"
    }
   },
   "outputs": [
    {
     "data": {
      "text/plain": [
       "gender                                    int8\n",
       "past_3_years_bike_related_purchases      int64\n",
       "job_title                                 int8\n",
       "job_industry_category                     int8\n",
       "wealth_segment                            int8\n",
       "deceased_indicator                        int8\n",
       "owns_car                                  int8\n",
       "tenure                                 float64\n",
       "address                                  int16\n",
       "postcode                                 int64\n",
       "state                                     int8\n",
       "property_valuation                       int64\n",
       "AgeGroup                                  int8\n",
       "dtype: object"
      ]
     },
     "execution_count": 56,
     "metadata": {},
     "output_type": "execute_result"
    }
   ],
   "source": [
    "X.dtypes"
   ]
  },
  {
   "cell_type": "code",
   "execution_count": 59,
   "metadata": {
    "ExecuteTime": {
     "end_time": "2021-01-25T01:53:05.078153Z",
     "start_time": "2021-01-25T01:53:05.071947Z"
    }
   },
   "outputs": [],
   "source": [
    "# Create hyper parameter grid for RandomForrestClassifier()\n",
    "rf_grid = {\"n_estimators\": np.arange(5, 50, 5),\n",
    "           \"max_depth\": [ 3, 5, 10, 15, 20],\n",
    "           \"min_samples_split\": np.arange(2, 20, 2),\n",
    "           \"min_samples_leaf\": np.arange(3, 20, 2)}\n",
    "\n",
    "# Create hyper parameter grid for DecisionTreeClassifier()\n",
    "dt_grid = {\"criterion\": ['gini'],\n",
    "           \"max_depth\": [4],\n",
    "           \"min_samples_split\": np.arange(20, 100, 5),\n",
    "           \"min_samples_leaf\": np.arange(15, 100, 5)}"
   ]
  },
  {
   "cell_type": "code",
   "execution_count": 89,
   "metadata": {
    "ExecuteTime": {
     "end_time": "2021-01-24T07:09:55.197640Z",
     "start_time": "2021-01-24T07:09:31.608197Z"
    }
   },
   "outputs": [
    {
     "name": "stdout",
     "output_type": "stream",
     "text": [
      "Fitting 5 folds for each of 20 candidates, totalling 100 fits\n"
     ]
    },
    {
     "name": "stderr",
     "output_type": "stream",
     "text": [
      "[Parallel(n_jobs=1)]: Using backend SequentialBackend with 1 concurrent workers.\n",
      "[Parallel(n_jobs=1)]: Done 100 out of 100 | elapsed:   23.2s finished\n"
     ]
    },
    {
     "data": {
      "text/plain": [
       "RandomizedSearchCV(cv=5, estimator=RandomForestClassifier(), n_iter=20,\n",
       "                   param_distributions={'max_depth': [3, 5, 10, 15, 20],\n",
       "                                        'min_samples_leaf': array([ 3,  5,  7,  9, 11, 13, 15, 17, 19]),\n",
       "                                        'min_samples_split': array([ 2,  4,  6,  8, 10, 12, 14, 16, 18]),\n",
       "                                        'n_estimators': array([ 5, 10, 15, 20, 25, 30, 35, 40, 45])},\n",
       "                   verbose=True)"
      ]
     },
     "execution_count": 89,
     "metadata": {},
     "output_type": "execute_result"
    }
   ],
   "source": [
    "# Setup random seed\n",
    "np.random.seed(42)\n",
    "\n",
    "# Setup random hyperparameter search for RandomForestClassifier()\n",
    "rs_rf = RandomizedSearchCV(RandomForestClassifier(),\n",
    "                           param_distributions=rf_grid,\n",
    "                           cv=5,\n",
    "                           n_iter=20,\n",
    "                           verbose=True)\n",
    "\n",
    "# Fit random hyperparameter search model for RandomForestClassifier()\n",
    "rs_rf.fit(X_train, y_train)\n"
   ]
  },
  {
   "cell_type": "code",
   "execution_count": 60,
   "metadata": {
    "ExecuteTime": {
     "end_time": "2021-01-25T01:53:15.854758Z",
     "start_time": "2021-01-25T01:53:13.568800Z"
    }
   },
   "outputs": [
    {
     "name": "stdout",
     "output_type": "stream",
     "text": [
      "Fitting 5 folds for each of 20 candidates, totalling 100 fits\n"
     ]
    },
    {
     "name": "stderr",
     "output_type": "stream",
     "text": [
      "[Parallel(n_jobs=1)]: Using backend SequentialBackend with 1 concurrent workers.\n",
      "[Parallel(n_jobs=1)]: Done 100 out of 100 | elapsed:    2.2s finished\n"
     ]
    },
    {
     "data": {
      "text/plain": [
       "RandomizedSearchCV(cv=5, estimator=DecisionTreeClassifier(), n_iter=20,\n",
       "                   param_distributions={'criterion': ['gini'], 'max_depth': [4],\n",
       "                                        'min_samples_leaf': array([15, 20, 25, 30, 35, 40, 45, 50, 55, 60, 65, 70, 75, 80, 85, 90, 95]),\n",
       "                                        'min_samples_split': array([20, 25, 30, 35, 40, 45, 50, 55, 60, 65, 70, 75, 80, 85, 90, 95])},\n",
       "                   verbose=True)"
      ]
     },
     "execution_count": 60,
     "metadata": {},
     "output_type": "execute_result"
    }
   ],
   "source": [
    "# Setup random hyperparameter search for DecisionTreeClassifier()\n",
    "rs_dt = RandomizedSearchCV(DecisionTreeClassifier(),\n",
    "                           param_distributions=dt_grid,\n",
    "                           cv=5,\n",
    "                           n_iter=20,\n",
    "                           verbose=True)\n",
    "\n",
    "# Fit random hyperparameter search model for RandomForestClassifier()\n",
    "rs_dt.fit(X_train, y_train)"
   ]
  },
  {
   "cell_type": "code",
   "execution_count": 61,
   "metadata": {
    "ExecuteTime": {
     "end_time": "2021-01-25T01:53:20.958386Z",
     "start_time": "2021-01-25T01:53:20.952738Z"
    }
   },
   "outputs": [
    {
     "data": {
      "text/plain": [
       "{'min_samples_split': 45,\n",
       " 'min_samples_leaf': 15,\n",
       " 'max_depth': 4,\n",
       " 'criterion': 'gini'}"
      ]
     },
     "execution_count": 61,
     "metadata": {},
     "output_type": "execute_result"
    }
   ],
   "source": [
    "rs_dt.best_params_"
   ]
  },
  {
   "cell_type": "code",
   "execution_count": 92,
   "metadata": {
    "ExecuteTime": {
     "end_time": "2021-01-24T07:10:35.296109Z",
     "start_time": "2021-01-24T07:10:35.270041Z"
    }
   },
   "outputs": [
    {
     "data": {
      "text/plain": [
       "0.9761820120867402"
      ]
     },
     "execution_count": 92,
     "metadata": {},
     "output_type": "execute_result"
    }
   ],
   "source": [
    "rs_rf.score(X_test, y_test)"
   ]
  },
  {
   "cell_type": "code",
   "execution_count": 62,
   "metadata": {
    "ExecuteTime": {
     "end_time": "2021-01-25T01:53:26.209734Z",
     "start_time": "2021-01-25T01:53:26.199725Z"
    }
   },
   "outputs": [
    {
     "data": {
      "text/plain": [
       "0.3913970849626733"
      ]
     },
     "execution_count": 62,
     "metadata": {},
     "output_type": "execute_result"
    }
   ],
   "source": [
    "rs_dt.score(X_test, y_test)"
   ]
  },
  {
   "cell_type": "code",
   "execution_count": 63,
   "metadata": {
    "ExecuteTime": {
     "end_time": "2021-01-25T01:53:31.646394Z",
     "start_time": "2021-01-25T01:53:31.639740Z"
    }
   },
   "outputs": [],
   "source": [
    "y_preds = rs_dt.predict(X_test)"
   ]
  },
  {
   "cell_type": "code",
   "execution_count": 64,
   "metadata": {
    "ExecuteTime": {
     "end_time": "2021-01-25T01:53:34.033368Z",
     "start_time": "2021-01-25T01:53:34.008151Z"
    }
   },
   "outputs": [
    {
     "name": "stdout",
     "output_type": "stream",
     "text": [
      "Accuracy: 0.39\n",
      "Confusion Matrix: \n",
      " [[434   4 410  23]\n",
      " [212  13 224  21]\n",
      " [392   2 636  24]\n",
      " [166   2 232  18]]\n",
      "              precision    recall  f1-score   support\n",
      "\n",
      "           0       0.36      0.50      0.42       871\n",
      "           1       0.62      0.03      0.05       470\n",
      "           2       0.42      0.60      0.50      1054\n",
      "           3       0.21      0.04      0.07       418\n",
      "\n",
      "    accuracy                           0.39      2813\n",
      "   macro avg       0.40      0.29      0.26      2813\n",
      "weighted avg       0.40      0.39      0.34      2813\n",
      "\n"
     ]
    }
   ],
   "source": [
    "accuracy = metrics.accuracy_score(y_test, y_preds)\n",
    "print(\"Accuracy: {:.2f}\".format(accuracy))\n",
    "cm=confusion_matrix(y_test,y_preds)\n",
    "print('Confusion Matrix: \\n', cm)\n",
    "print(classification_report(y_test, y_preds))"
   ]
  },
  {
   "cell_type": "code",
   "execution_count": 71,
   "metadata": {
    "ExecuteTime": {
     "end_time": "2021-01-25T02:22:36.923920Z",
     "start_time": "2021-01-25T02:22:32.010401Z"
    },
    "scrolled": true
   },
   "outputs": [
    {
     "data": {
      "image/png": "[encoded data removed]",
      "text/plain": [
       "<Figure size 4320x1440 with 1 Axes>"
      ]
     },
     "metadata": {
      "image/png": {
       "height": 1101,
       "width": 3362
      },
      "needs_background": "light"
     },
     "output_type": "display_data"
    }
   ],
   "source": [
    "# Visualize the tree by graphiz\n",
    "import graphviz\n",
    "from sklearn import tree\n",
    "#feature_names = X_train.columns\n",
    "#dot_data = tree.export_graphviz(rs_dt.best_estimator_, out_file=None, filled=True, rounded = True, feature_names=feature_names)\n",
    "#graph = graphviz.Source(dot_data)\n",
    "#graph\n",
    "\n",
    "plt.figure(figsize=(60,20))\n",
    "tree.plot_tree(rs_dt.best_estimator_, fontsize=6, feature_names=X_train.columns, class_names=['cluster 0',\n",
    "                                                                                              'cluster 1',\n",
    "                                                                                              'cluster 2',\n",
    "                                                                                              'cluster 3'])\n",
    "plt.savefig('tree_high_dpi', dpi=100)\n"
   ]
  },
  {
   "cell_type": "code",
   "execution_count": null,
   "metadata": {
    "ExecuteTime": {
     "end_time": "2021-01-24T05:44:19.011337Z",
     "start_time": "2021-01-24T05:44:13.946862Z"
    }
   },
   "outputs": [],
   "source": []
  },
  {
   "cell_type": "code",
   "execution_count": null,
   "metadata": {},
   "outputs": [],
   "source": []
  }
 ],
 "metadata": {
  "kernelspec": {
   "display_name": "Python 3",
   "language": "python",
   "name": "python3"
  },
  "language_info": {
   "codemirror_mode": {
    "name": "ipython",
    "version": 3
   },
   "file_extension": ".py",
   "mimetype": "text/x-python",
   "name": "python",
   "nbconvert_exporter": "python",
   "pygments_lexer": "ipython3",
   "version": "3.8.2"
  },
  "varInspector": {
   "cols": {
    "lenName": 16,
    "lenType": 16,
    "lenVar": 40
   },
   "kernels_config": {
    "python": {
     "delete_cmd_postfix": "",
     "delete_cmd_prefix": "del ",
     "library": "var_list.py",
     "varRefreshCmd": "print(var_dic_list())"
    },
    "r": {
     "delete_cmd_postfix": ") ",
     "delete_cmd_prefix": "rm(",
     "library": "var_list.r",
     "varRefreshCmd": "cat(var_dic_list()) "
    }
   },
   "types_to_exclude": [
    "module",
    "function",
    "builtin_function_or_method",
    "instance",
    "_Feature"
   ],
   "window_display": false
  }
 },
 "nbformat": 4,
 "nbformat_minor": 4
}
